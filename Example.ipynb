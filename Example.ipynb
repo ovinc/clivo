{
 "cells": [
  {
   "cell_type": "code",
   "execution_count": 1,
   "metadata": {},
   "outputs": [],
   "source": [
    "import oclock\n",
    "from threading import Event\n",
    "from clyo import CommandLineInterface"
   ]
  },
  {
   "cell_type": "code",
   "execution_count": 2,
   "metadata": {},
   "outputs": [],
   "source": [
    "class TestObject:\n",
    "\n",
    "    def __init__(self):\n",
    "        self.timer = oclock.Timer(interval=1, warnings=True)\n",
    "        self._avg = 10\n",
    "        \n",
    "    @property\n",
    "    def averaging(self):\n",
    "        return self._avg\n",
    "\n",
    "    @averaging.setter\n",
    "    def averaging(self, value):\n",
    "        self._avg = value\n",
    "        self.timer.reset()  # for immediate effect\n",
    "\n",
    "    def on_stop(self):\n",
    "        self.timer.stop()"
   ]
  },
  {
   "cell_type": "code",
   "execution_count": 3,
   "metadata": {},
   "outputs": [],
   "source": [
    "obj1 = TestObject()\n",
    "obj2 = TestObject()\n",
    "\n",
    "objects = {'A': obj1, 'Biloute': obj2}"
   ]
  },
  {
   "cell_type": "code",
   "execution_count": 4,
   "metadata": {},
   "outputs": [],
   "source": [
    "properties = {'timer.interval': {'repr': 'Δt (s)',  \n",
    "                                 'commands': ('dt',),     \n",
    "                                  },  \n",
    "              'averaging': {'repr': 'Averaging',\n",
    "                      'commands': ('avg',),\n",
    "                     }\n",
    "              }"
   ]
  },
  {
   "cell_type": "code",
   "execution_count": 5,
   "metadata": {},
   "outputs": [],
   "source": [
    "graph_event = Event()\n",
    "stop_event = Event()"
   ]
  },
  {
   "cell_type": "code",
   "execution_count": 6,
   "metadata": {},
   "outputs": [],
   "source": [
    "events = {'graph': {'event': graph_event,\n",
    "                    'commands': ('g', 'graph')\n",
    "                    },\n",
    "          'stop': {'event': stop_event,\n",
    "                   'commands': ('q', 'quit')\n",
    "                   }\n",
    "          }"
   ]
  },
  {
   "cell_type": "markdown",
   "metadata": {},
   "source": [
    "It is possible to not specify the stop event, in this case it is created internally:"
   ]
  },
  {
   "cell_type": "code",
   "execution_count": 7,
   "metadata": {},
   "outputs": [],
   "source": [
    "events = {'graph': {'event': graph_event,\n",
    "                    'commands': ('g', 'graph')\n",
    "                    \n",
    "                   }\n",
    "          }"
   ]
  },
  {
   "cell_type": "code",
   "execution_count": 8,
   "metadata": {},
   "outputs": [
    {
     "name": "stdout",
     "output_type": "stream",
     "text": [
      "Stop event not passed. Creating one internally.\n"
     ]
    }
   ],
   "source": [
    "cli = CommandLineInterface(objects, properties, events)"
   ]
  },
  {
   "cell_type": "code",
   "execution_count": 9,
   "metadata": {},
   "outputs": [
    {
     "name": "stdin",
     "output_type": "stream",
     "text": [
      "Type command (to stop, type q or Q or quit):  q\n"
     ]
    },
    {
     "name": "stdout",
     "output_type": "stream",
     "text": [
      "Stopping recording ...\n"
     ]
    }
   ],
   "source": [
    "cli.run()"
   ]
  },
  {
   "cell_type": "code",
   "execution_count": null,
   "metadata": {},
   "outputs": [],
   "source": []
  }
 ],
 "metadata": {
  "kernelspec": {
   "display_name": "Python 3",
   "language": "python",
   "name": "python3"
  },
  "language_info": {
   "codemirror_mode": {
    "name": "ipython",
    "version": 3
   },
   "file_extension": ".py",
   "mimetype": "text/x-python",
   "name": "python",
   "nbconvert_exporter": "python",
   "pygments_lexer": "ipython3",
   "version": "3.8.5"
  }
 },
 "nbformat": 4,
 "nbformat_minor": 4
}
