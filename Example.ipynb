{
 "cells": [
  {
   "cell_type": "code",
   "execution_count": 9,
   "metadata": {},
   "outputs": [],
   "source": [
    "import oclock\n",
    "from threading import Event\n",
    "from clyo import CommandLineInterface"
   ]
  },
  {
   "cell_type": "code",
   "execution_count": 10,
   "metadata": {},
   "outputs": [],
   "source": [
    "class TestObjectA:\n",
    "\n",
    "    def __init__(self):\n",
    "        self.timer = oclock.Timer(interval=1, warnings=True)\n",
    "        self._avg = 10\n",
    "        \n",
    "        self.controlled_properties = 'timer.interval', 'averaging'\n",
    "        \n",
    "    @property\n",
    "    def averaging(self):\n",
    "        return self._avg\n",
    "\n",
    "    @averaging.setter\n",
    "    def averaging(self, value):\n",
    "        self._avg = value\n",
    "        self.timer.reset()  # for immediate effect\n",
    "\n",
    "    def on_stop(self):\n",
    "        self.timer.stop()\n",
    "        \n",
    "class TestObjectB:\n",
    "\n",
    "    def __init__(self):\n",
    "        \n",
    "        self.averaging = 10\n",
    "        self.value = 1\n",
    "        \n",
    "        self.controlled_properties = 'value', 'averaging'"
   ]
  },
  {
   "cell_type": "code",
   "execution_count": 11,
   "metadata": {},
   "outputs": [],
   "source": [
    "obj1 = TestObjectA()\n",
    "obj2 = TestObjectA()\n",
    "obj3 = TestObjectB()\n",
    "\n",
    "objects = {'A1': obj1, 'A2': obj2, 'objB': obj3}"
   ]
  },
  {
   "cell_type": "code",
   "execution_count": 12,
   "metadata": {},
   "outputs": [],
   "source": [
    "properties = {'timer.interval': {'repr': 'Δt (s)',  \n",
    "                                 'commands': ('dt',),     \n",
    "                                  },  \n",
    "              'averaging': {'repr': 'Averaging',\n",
    "                            'commands': ('avg',),\n",
    "                            },\n",
    "              'value': {'repr': 'Value',\n",
    "                        'commands': ('val',),\n",
    "                     }\n",
    "              }"
   ]
  },
  {
   "cell_type": "code",
   "execution_count": 13,
   "metadata": {},
   "outputs": [],
   "source": [
    "graph_event = Event()\n",
    "stop_event = Event()"
   ]
  },
  {
   "cell_type": "code",
   "execution_count": 14,
   "metadata": {},
   "outputs": [],
   "source": [
    "events = {'graph': {'event': graph_event,\n",
    "                    'commands': ('g', 'graph')\n",
    "                    },\n",
    "          'stop': {'event': stop_event,\n",
    "                   'commands': ('q', 'quit')\n",
    "                   }\n",
    "          }"
   ]
  },
  {
   "cell_type": "markdown",
   "metadata": {},
   "source": [
    "It is possible to not specify the stop event, in this case it is created internally:"
   ]
  },
  {
   "cell_type": "code",
   "execution_count": 15,
   "metadata": {},
   "outputs": [],
   "source": [
    "events = {'graph': {'event': graph_event,\n",
    "                    'commands': ('g', 'graph')\n",
    "                    \n",
    "                   }\n",
    "          }"
   ]
  },
  {
   "cell_type": "code",
   "execution_count": 18,
   "metadata": {},
   "outputs": [
    {
     "name": "stdout",
     "output_type": "stream",
     "text": [
      "Stop event not passed. Creating one internally.\n"
     ]
    }
   ],
   "source": [
    "cli = CommandLineInterface(objects, properties, events)"
   ]
  },
  {
   "cell_type": "code",
   "execution_count": 19,
   "metadata": {},
   "outputs": [
    {
     "name": "stdout",
     "output_type": "stream",
     "text": [
      "Δt (s)\n",
      "A1-----1\n",
      "A2-----1\n",
      "objB---N/A\n",
      "New Δt (s) for A1: 10\n",
      "New Δt (s) for A2: 10\n",
      "Unknown Command. \n",
      "New Value for objB: 3\n",
      "Value\n",
      "A1-----N/A\n",
      "A2-----N/A\n",
      "objB---3\n",
      "Δt (s)\n",
      "A1-----10\n",
      "A2-----10\n",
      "objB---N/A\n",
      "Averaging\n",
      "A1-----10\n",
      "A2-----10\n",
      "objB---10\n",
      "Unknown Command. \n",
      "New Δt (s) for A1: 3\n",
      "New Value for objB: 5\n",
      "Stopping recording ...\n"
     ]
    }
   ],
   "source": [
    "cli.run()"
   ]
  },
  {
   "cell_type": "code",
   "execution_count": 20,
   "metadata": {},
   "outputs": [
    {
     "data": {
      "text/plain": [
       "5"
      ]
     },
     "execution_count": 20,
     "metadata": {},
     "output_type": "execute_result"
    }
   ],
   "source": [
    "obj3.value"
   ]
  },
  {
   "cell_type": "code",
   "execution_count": null,
   "metadata": {},
   "outputs": [],
   "source": []
  }
 ],
 "metadata": {
  "kernelspec": {
   "display_name": "Python 3",
   "language": "python",
   "name": "python3"
  },
  "language_info": {
   "codemirror_mode": {
    "name": "ipython",
    "version": 3
   },
   "file_extension": ".py",
   "mimetype": "text/x-python",
   "name": "python",
   "nbconvert_exporter": "python",
   "pygments_lexer": "ipython3",
   "version": "3.8.8"
  }
 },
 "nbformat": 4,
 "nbformat_minor": 4
}
